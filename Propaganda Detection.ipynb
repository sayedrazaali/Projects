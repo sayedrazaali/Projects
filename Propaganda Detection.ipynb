{
 "cells": [
  {
   "cell_type": "markdown",
   "id": "74de075b",
   "metadata": {},
   "source": [
    "# Loading the Dataset"
   ]
  },
  {
   "cell_type": "code",
   "execution_count": 15,
   "id": "3dd73145",
   "metadata": {
    "id": "3dd73145"
   },
   "outputs": [],
   "source": [
    "import os\n",
    "train_file= \"propaganda_train.tsv\"\n",
    "\n",
    "test_file= \"propaganda_val.tsv\"\n"
   ]
  },
  {
   "cell_type": "markdown",
   "id": "fed197ba",
   "metadata": {},
   "source": [
    "# Pre-Processing"
   ]
  },
  {
   "cell_type": "code",
   "execution_count": 16,
   "id": "f81a112e",
   "metadata": {
    "id": "f81a112e"
   },
   "outputs": [],
   "source": [
    "import pandas as pd\n",
    "train_df=pd.read_csv(train_file,delimiter=\"\\t\",quotechar='|')\n",
    "test_df=pd.read_csv(test_file,delimiter=\"\\t\",quotechar='|')\n"
   ]
  },
  {
   "cell_type": "code",
   "execution_count": 3,
   "id": "c2ed756d",
   "metadata": {
    "colab": {
     "base_uri": "https://localhost:8080/",
     "height": 677
    },
    "id": "c2ed756d",
    "outputId": "3aff8fbd-859a-4e08-d48c-dcc5c3a7fb35"
   },
   "outputs": [
    {
     "data": {
      "text/html": [
       "<div>\n",
       "<style scoped>\n",
       "    .dataframe tbody tr th:only-of-type {\n",
       "        vertical-align: middle;\n",
       "    }\n",
       "\n",
       "    .dataframe tbody tr th {\n",
       "        vertical-align: top;\n",
       "    }\n",
       "\n",
       "    .dataframe thead th {\n",
       "        text-align: right;\n",
       "    }\n",
       "</style>\n",
       "<table border=\"1\" class=\"dataframe\">\n",
       "  <thead>\n",
       "    <tr style=\"text-align: right;\">\n",
       "      <th></th>\n",
       "      <th>label</th>\n",
       "      <th>tagged_in_context</th>\n",
       "    </tr>\n",
       "  </thead>\n",
       "  <tbody>\n",
       "    <tr>\n",
       "      <th>0</th>\n",
       "      <td>not_propaganda</td>\n",
       "      <td>No, &lt;BOS&gt; he &lt;EOS&gt; will not be confirmed.</td>\n",
       "    </tr>\n",
       "    <tr>\n",
       "      <th>1</th>\n",
       "      <td>not_propaganda</td>\n",
       "      <td>This declassification effort &lt;BOS&gt; won’t make ...</td>\n",
       "    </tr>\n",
       "    <tr>\n",
       "      <th>2</th>\n",
       "      <td>flag_waving</td>\n",
       "      <td>\"The Obama administration misled the &lt;BOS&gt; Ame...</td>\n",
       "    </tr>\n",
       "    <tr>\n",
       "      <th>3</th>\n",
       "      <td>not_propaganda</td>\n",
       "      <td>“It looks like we’re capturing the demise of t...</td>\n",
       "    </tr>\n",
       "    <tr>\n",
       "      <th>4</th>\n",
       "      <td>not_propaganda</td>\n",
       "      <td>&lt;BOS&gt; Location: Westerville, Ohio &lt;EOS&gt;</td>\n",
       "    </tr>\n",
       "    <tr>\n",
       "      <th>5</th>\n",
       "      <td>loaded_language</td>\n",
       "      <td>Hitler &lt;BOS&gt; annihilated &lt;EOS&gt; 400,000 Germans...</td>\n",
       "    </tr>\n",
       "    <tr>\n",
       "      <th>6</th>\n",
       "      <td>not_propaganda</td>\n",
       "      <td>A federal judge on Monday ordered U.S. immigra...</td>\n",
       "    </tr>\n",
       "    <tr>\n",
       "      <th>7</th>\n",
       "      <td>not_propaganda</td>\n",
       "      <td>&lt;BOS&gt; Kirstjen Nielsen (@SecNielsen) &lt;EOS&gt; Nov...</td>\n",
       "    </tr>\n",
       "    <tr>\n",
       "      <th>8</th>\n",
       "      <td>doubt</td>\n",
       "      <td>As noted above, at this point literally every ...</td>\n",
       "    </tr>\n",
       "    <tr>\n",
       "      <th>9</th>\n",
       "      <td>not_propaganda</td>\n",
       "      <td>Britain doesn't need more hate even just for a...</td>\n",
       "    </tr>\n",
       "    <tr>\n",
       "      <th>10</th>\n",
       "      <td>name_calling,labeling</td>\n",
       "      <td>His account was suspended for violating Twitte...</td>\n",
       "    </tr>\n",
       "    <tr>\n",
       "      <th>11</th>\n",
       "      <td>not_propaganda</td>\n",
       "      <td>Ironically, even in doing this he is &lt;BOS&gt; lik...</td>\n",
       "    </tr>\n",
       "    <tr>\n",
       "      <th>12</th>\n",
       "      <td>appeal_to_fear_prejudice</td>\n",
       "      <td>A couple of seemingly unrelated events this pa...</td>\n",
       "    </tr>\n",
       "    <tr>\n",
       "      <th>13</th>\n",
       "      <td>not_propaganda</td>\n",
       "      <td>During the term of the Assassination &lt;BOS&gt; Rec...</td>\n",
       "    </tr>\n",
       "    <tr>\n",
       "      <th>14</th>\n",
       "      <td>repetition</td>\n",
       "      <td>Trump has expelled &lt;BOS&gt; more &lt;EOS&gt; Russian di...</td>\n",
       "    </tr>\n",
       "    <tr>\n",
       "      <th>15</th>\n",
       "      <td>not_propaganda</td>\n",
       "      <td>President Trump ordered that the relevant docu...</td>\n",
       "    </tr>\n",
       "    <tr>\n",
       "      <th>16</th>\n",
       "      <td>not_propaganda</td>\n",
       "      <td>The newspaper added that Manafort’s visit was ...</td>\n",
       "    </tr>\n",
       "    <tr>\n",
       "      <th>17</th>\n",
       "      <td>not_propaganda</td>\n",
       "      <td>“We are now doing a &lt;BOS&gt; recount, so &lt;EOS&gt; we...</td>\n",
       "    </tr>\n",
       "    <tr>\n",
       "      <th>18</th>\n",
       "      <td>doubt</td>\n",
       "      <td>&lt;BOS&gt; But who authorized this strategic commit...</td>\n",
       "    </tr>\n",
       "    <tr>\n",
       "      <th>19</th>\n",
       "      <td>causal_oversimplification</td>\n",
       "      <td>Outside of specialists and seekers, &lt;BOS&gt; the ...</td>\n",
       "    </tr>\n",
       "  </tbody>\n",
       "</table>\n",
       "</div>"
      ],
      "text/plain": [
       "                        label  \\\n",
       "0              not_propaganda   \n",
       "1              not_propaganda   \n",
       "2                 flag_waving   \n",
       "3              not_propaganda   \n",
       "4              not_propaganda   \n",
       "5             loaded_language   \n",
       "6              not_propaganda   \n",
       "7              not_propaganda   \n",
       "8                       doubt   \n",
       "9              not_propaganda   \n",
       "10      name_calling,labeling   \n",
       "11             not_propaganda   \n",
       "12   appeal_to_fear_prejudice   \n",
       "13             not_propaganda   \n",
       "14                 repetition   \n",
       "15             not_propaganda   \n",
       "16             not_propaganda   \n",
       "17             not_propaganda   \n",
       "18                      doubt   \n",
       "19  causal_oversimplification   \n",
       "\n",
       "                                    tagged_in_context  \n",
       "0          No, <BOS> he <EOS> will not be confirmed.   \n",
       "1   This declassification effort <BOS> won’t make ...  \n",
       "2   \"The Obama administration misled the <BOS> Ame...  \n",
       "3   “It looks like we’re capturing the demise of t...  \n",
       "4            <BOS> Location: Westerville, Ohio <EOS>   \n",
       "5   Hitler <BOS> annihilated <EOS> 400,000 Germans...  \n",
       "6   A federal judge on Monday ordered U.S. immigra...  \n",
       "7   <BOS> Kirstjen Nielsen (@SecNielsen) <EOS> Nov...  \n",
       "8   As noted above, at this point literally every ...  \n",
       "9   Britain doesn't need more hate even just for a...  \n",
       "10  His account was suspended for violating Twitte...  \n",
       "11  Ironically, even in doing this he is <BOS> lik...  \n",
       "12  A couple of seemingly unrelated events this pa...  \n",
       "13  During the term of the Assassination <BOS> Rec...  \n",
       "14  Trump has expelled <BOS> more <EOS> Russian di...  \n",
       "15  President Trump ordered that the relevant docu...  \n",
       "16  The newspaper added that Manafort’s visit was ...  \n",
       "17  “We are now doing a <BOS> recount, so <EOS> we...  \n",
       "18  <BOS> But who authorized this strategic commit...  \n",
       "19  Outside of specialists and seekers, <BOS> the ...  "
      ]
     },
     "execution_count": 3,
     "metadata": {},
     "output_type": "execute_result"
    }
   ],
   "source": [
    "train_df.head(20)"
   ]
  },
  {
   "cell_type": "markdown",
   "id": "9e2fd8b4",
   "metadata": {},
   "source": [
    "# Splitting Features and Labels "
   ]
  },
  {
   "cell_type": "code",
   "execution_count": 19,
   "id": "8bae776a",
   "metadata": {
    "id": "8bae776a"
   },
   "outputs": [],
   "source": [
    "train_label = train_df['label']\n",
    "test_label = test_df['label']\n",
    "train_features = train_df['tagged_in_context']\n",
    "test_features = test_df['tagged_in_context']"
   ]
  },
  {
   "cell_type": "markdown",
   "id": "2bf180a2",
   "metadata": {},
   "source": [
    "# Converting Label into Binary Values "
   ]
  },
  {
   "cell_type": "code",
   "execution_count": 18,
   "id": "6b6e5e7c",
   "metadata": {
    "id": "6b6e5e7c"
   },
   "outputs": [],
   "source": [
    "binary_label_test= test_df['label'].apply(lambda x: 0 if 'not_propaganda' in x.lower() else 1)\n",
    "binary_label_train= train_df['label'].apply(lambda x: 0 if 'not_propaganda' in x.lower() else 1)"
   ]
  },
  {
   "cell_type": "code",
   "execution_count": 17,
   "id": "7d16b2b0",
   "metadata": {
    "id": "7d16b2b0"
   },
   "outputs": [],
   "source": [
    "X_train= train_features\n",
    "Y_train= binary_label_train\n",
    "X_test=test_features\n",
    "Y_test= binary_label_test\n"
   ]
  },
  {
   "cell_type": "markdown",
   "id": "a439aeba",
   "metadata": {
    "id": "a439aeba"
   },
   "source": [
    "# Task 1\n",
    "\n",
    "# Approach 1  \n",
    "\n",
    "# Logistic Regression - Bag of Words using Count Vectorizer\n"
   ]
  },
  {
   "cell_type": "code",
   "execution_count": 11,
   "id": "9e0060ce",
   "metadata": {
    "colab": {
     "base_uri": "https://localhost:8080/",
     "height": 214
    },
    "id": "9e0060ce",
    "outputId": "2e52d031-246e-4b43-a4d4-5fd583827394"
   },
   "outputs": [
    {
     "name": "stdout",
     "output_type": "stream",
     "text": [
      "Classification Report for Logistic Regression:\n",
      "              precision    recall  f1-score   support\n",
      "\n",
      "           0       0.72      0.78      0.75       331\n",
      "           1       0.74      0.67      0.71       309\n",
      "\n",
      "    accuracy                           0.73       640\n",
      "   macro avg       0.73      0.73      0.73       640\n",
      "weighted avg       0.73      0.73      0.73       640\n",
      "\n"
     ]
    }
   ],
   "source": [
    "#Importing the necessary libraries\n",
    "from sklearn.linear_model import LogisticRegression\n",
    "from sklearn.feature_extraction.text import CountVectorizer\n",
    "from sklearn.metrics import accuracy_score, f1_score\n",
    "from sklearn.metrics import classification_report\n",
    "import warnings\n",
    "warnings.filterwarnings(\"ignore\")\n",
    "\n",
    "#using the count vectorizer to transform xtrain and test data into vectors \n",
    "vectorizer=CountVectorizer()\n",
    "vectorizer.fit(X_train)\n",
    "Xvectors_train = vectorizer.transform(X_train)\n",
    "Xvectors_test = vectorizer.transform(X_test)\n",
    "#Defining the logisitc classifier\n",
    "classifier_logistic = LogisticRegression(solver='saga', max_iter=1000)\n",
    "#Training the model\n",
    "classifier_logistic.fit(Xvectors_train, Y_train)\n",
    "#Predicting the test data\n",
    "pred_logistic= classifier_logistic.predict(Xvectors_test)\n",
    "report_logistic = classification_report(Y_test,pred_logistic)\n",
    "# Printing classification report\n",
    "print(\"Classification Report for Logistic Regression:\")\n",
    "print(report_logistic)\n"
   ]
  },
  {
   "cell_type": "markdown",
   "id": "b9222257",
   "metadata": {},
   "source": [
    "# Logistic Regression - Hypertuning through Random Search CV"
   ]
  },
  {
   "cell_type": "code",
   "execution_count": 14,
   "id": "33108ed1",
   "metadata": {},
   "outputs": [
    {
     "name": "stdout",
     "output_type": "stream",
     "text": [
      "Classification Report for Logistic Regression:\n",
      "              precision    recall  f1-score   support\n",
      "\n",
      "           0       0.70      0.80      0.75       331\n",
      "           1       0.75      0.64      0.69       309\n",
      "\n",
      "    accuracy                           0.72       640\n",
      "   macro avg       0.73      0.72      0.72       640\n",
      "weighted avg       0.73      0.72      0.72       640\n",
      "\n",
      "Best Parameters: {'C': 0.10778765841014329, 'max_iter': 100, 'solver': 'newton-cg'}\n"
     ]
    }
   ],
   "source": [
    "from sklearn.model_selection import RandomizedSearchCV\n",
    "from scipy.stats import uniform\n",
    "\n",
    "\n",
    "# Defining hyperparameter distributions\n",
    "param_dist = {\n",
    "    'solver': ['newton-cg', 'lbfgs', 'sag', 'saga'],\n",
    "    'max_iter': [100, 500, 1000],\n",
    "    'C': uniform(0.1, 10)}\n",
    "\n",
    "# Initializing RandomizedSearchCV\n",
    "random_search = RandomizedSearchCV(classifier_logistic, param_distributions=param_dist, n_iter=10, scoring='f1_weighted', cv=5, random_state=42)\n",
    "\n",
    "# Performing Randomized Search\n",
    "random_search.fit(Xvectors_train, Y_train)\n",
    "\n",
    "# Getting best parameters\n",
    "best_params_logistic = random_search.best_params_\n",
    "\n",
    "# Training the final model using the best parameters\n",
    "classifier_logistic = LogisticRegression(**best_params_logistic)\n",
    "classifier_logistic.fit(Xvectors_train, Y_train)\n",
    "\n",
    "# Making predictions on test set\n",
    "pred_logistic_tuned = classifier_logistic.predict(Xvectors_test)\n",
    "\n",
    "# Generating classification report\n",
    "report_logistic_tuned = classification_report(Y_test, pred_logistic_tuned)\n",
    "\n",
    "# Printing classification report and best parameters\n",
    "print(\"Classification Report for Logistic Regression:\")\n",
    "print(report_logistic_tuned)\n",
    "print(\"Best Parameters:\", best_params_logistic)\n"
   ]
  },
  {
   "cell_type": "markdown",
   "id": "f7fb7ea3",
   "metadata": {
    "id": "f7fb7ea3"
   },
   "source": [
    "# Approach 2 \n",
    "\n",
    "\n",
    "# LSTM - Static Word Embeddings/text-to-Sequence"
   ]
  },
  {
   "cell_type": "code",
   "execution_count": 51,
   "id": "c925b983",
   "metadata": {
    "colab": {
     "base_uri": "https://localhost:8080/"
    },
    "id": "c925b983",
    "outputId": "bd05a7ab-0d8d-4d5a-8893-220e696b8866"
   },
   "outputs": [
    {
     "name": "stdout",
     "output_type": "stream",
     "text": [
      "Epoch 1/5\n",
      "\u001b[1m72/72\u001b[0m \u001b[32m━━━━━━━━━━━━━━━━━━━━\u001b[0m\u001b[37m\u001b[0m \u001b[1m6s\u001b[0m 37ms/step - accuracy: 0.5070 - loss: 0.7371 - val_accuracy: 0.5469 - val_loss: 0.6919\n",
      "Epoch 2/5\n",
      "\u001b[1m72/72\u001b[0m \u001b[32m━━━━━━━━━━━━━━━━━━━━\u001b[0m\u001b[37m\u001b[0m \u001b[1m2s\u001b[0m 32ms/step - accuracy: 0.4872 - loss: 0.7229 - val_accuracy: 0.5469 - val_loss: 0.6887\n",
      "Epoch 3/5\n",
      "\u001b[1m72/72\u001b[0m \u001b[32m━━━━━━━━━━━━━━━━━━━━\u001b[0m\u001b[37m\u001b[0m \u001b[1m2s\u001b[0m 32ms/step - accuracy: 0.4809 - loss: 0.7190 - val_accuracy: 0.4453 - val_loss: 0.7488\n",
      "Epoch 4/5\n",
      "\u001b[1m72/72\u001b[0m \u001b[32m━━━━━━━━━━━━━━━━━━━━\u001b[0m\u001b[37m\u001b[0m \u001b[1m2s\u001b[0m 32ms/step - accuracy: 0.4927 - loss: 0.7169 - val_accuracy: 0.5625 - val_loss: 0.6897\n",
      "Epoch 5/5\n",
      "\u001b[1m72/72\u001b[0m \u001b[32m━━━━━━━━━━━━━━━━━━━━\u001b[0m\u001b[37m\u001b[0m \u001b[1m2s\u001b[0m 32ms/step - accuracy: 0.5065 - loss: 0.7009 - val_accuracy: 0.5625 - val_loss: 0.6869\n",
      "\u001b[1m20/20\u001b[0m \u001b[32m━━━━━━━━━━━━━━━━━━━━\u001b[0m\u001b[37m\u001b[0m \u001b[1m0s\u001b[0m 14ms/step - accuracy: 0.5202 - loss: 0.6924\n",
      "Test Accuracy: 0.5218750238418579\n",
      "\u001b[1m20/20\u001b[0m \u001b[32m━━━━━━━━━━━━━━━━━━━━\u001b[0m\u001b[37m\u001b[0m \u001b[1m1s\u001b[0m 14ms/step\n",
      "Classification Report of LSTM:\n",
      "              precision    recall  f1-score   support\n",
      "\n",
      "           0       0.52      0.99      0.68       331\n",
      "           1       0.71      0.02      0.03       309\n",
      "\n",
      "    accuracy                           0.52       640\n",
      "   macro avg       0.62      0.51      0.36       640\n",
      "weighted avg       0.61      0.52      0.37       640\n",
      "\n"
     ]
    }
   ],
   "source": [
    "#Importing Necessary Libraries\n",
    "\n",
    "import numpy as np\n",
    "from tensorflow.keras.models import Sequential\n",
    "from tensorflow.keras.layers import Embedding, LSTM, Dense, Dropout\n",
    "from tensorflow.keras.preprocessing.text import Tokenizer\n",
    "from tensorflow.keras.preprocessing.sequence import pad_sequences\n",
    "from tensorflow.keras.utils import to_categorical\n",
    "from sklearn.metrics import classification_report\n",
    "import warnings\n",
    "warnings.filterwarnings(\"ignore\")\n",
    "\n",
    "\n",
    "\n",
    "# Tokenizating the x_train\n",
    "max_words = 30 # Maximum number of words to tokenize\n",
    "tokenizer = Tokenizer(num_words=max_words)\n",
    "tokenizer.fit_on_texts(X_train)\n",
    "\n",
    "#converting into text_to_sequences\n",
    "X_train_sequences = tokenizer.texts_to_sequences(X_train)\n",
    "X_test_sequences = tokenizer.texts_to_sequences(X_test)\n",
    "\n",
    "# Padding\n",
    "max_len = max(len(seq) for seq in X_train_sequences)  # Finding the maximum sequence length\n",
    "\n",
    "X_train_pad = pad_sequences(X_train_sequences, maxlen=max_len, padding='post')\n",
    "X_test_pad = pad_sequences(X_test_sequences, maxlen=max_len, padding='post')\n",
    "\n",
    "\n",
    "# Building LSTM model\n",
    "embedding_dim = 100  \n",
    "lstm_units = 100 \n",
    "\n",
    "model = Sequential()\n",
    "model.add(Embedding(input_dim= max_words, output_dim=embedding_dim, input_length=max_len))\n",
    "model.add(LSTM(units=lstm_units, return_sequences=True)) #\n",
    "model.add(Dropout(0.2))\n",
    "model.add(LSTM(units=lstm_units))\n",
    "model.add(Dropout(0.2))\n",
    "model.add(Dense(64, activation='sigmoid'))\n",
    "model.add(Dropout(0.2))\n",
    "model.add(Dense(2, activation='softmax'))\n",
    "\n",
    "# Compiling the model\n",
    "model.compile(optimizer='adam', loss='sparse_categorical_crossentropy', metrics=['accuracy'])\n",
    "\n",
    "# Training the model\n",
    "model.fit(X_train_pad, binary_label_train, epochs=5, batch_size=32, validation_split=0.1)\n",
    "\n",
    "# Evaluating the model\n",
    "loss, accuracy_LSTM = model.evaluate(X_test_pad, binary_label_test)\n",
    "print(\"Test Accuracy:\", accuracy_LSTM)\n",
    "\n",
    "\n",
    "# Getting the predicted labels\n",
    "\n",
    "y_pred_LSTM = np.argmax(model.predict(X_test_pad), axis=1)\n",
    "# Generating classification report\n",
    "report_LSTM = classification_report(binary_label_test, y_pred_LSTM)\n",
    "\n",
    "# Printing classification report\n",
    "print(\"Classification Report of LSTM:\")\n",
    "print(report_LSTM)"
   ]
  },
  {
   "cell_type": "markdown",
   "id": "0ee0b27e",
   "metadata": {},
   "source": [
    "## Class Imbalance Graph"
   ]
  },
  {
   "cell_type": "code",
   "execution_count": 59,
   "id": "0848ae79",
   "metadata": {},
   "outputs": [
    {
     "data": {
      "image/png": "[encoded data removed]",
      "text/plain": [
       "<Figure size 1200x600 with 1 Axes>"
      ]
     },
     "metadata": {},
     "output_type": "display_data"
    }
   ],
   "source": [
    "import matplotlib.pyplot as plt\n",
    "\n",
    "# Assuming you have the label counts stored in a dictionary called 'label_counts'\n",
    "label_counts = {\n",
    "    'not_propaganda': 1269,\n",
    "    'exaggeration,minimisation': 170,\n",
    "    'name_calling,labeling': 166,\n",
    "    'causal_oversimplification': 165,\n",
    "    'loaded_language': 161,\n",
    "    'repetition': 160,\n",
    "    'doubt': 157,\n",
    "    'appeal_to_fear_prejudice': 157,\n",
    "    'flag_waving': 155\n",
    "}\n",
    "\n",
    "# Extract the labels and counts from the dictionary\n",
    "labels = list(label_counts.keys())\n",
    "counts = list(label_counts.values())\n",
    "\n",
    "# Create a bar plot\n",
    "fig, ax = plt.subplots(figsize=(12, 6))\n",
    "bar_width = 0.8\n",
    "opacity = 0.8\n",
    "\n",
    "# Plot the bars\n",
    "ax.bar(labels, counts, width=bar_width, alpha=opacity)\n",
    "\n",
    "# Customize the plot\n",
    "ax.set_xlabel('Labels')\n",
    "ax.set_ylabel('Count')\n",
    "ax.set_title('Class Distribution')\n",
    "ax.tick_params(axis='x', rotation=45)  # Rotate x-axis labels for better readability\n",
    "\n",
    "# Add labels on top of each bar\n",
    "for i, count in enumerate(counts):\n",
    "    ax.text(i, count + 10, str(count), ha='center')\n",
    "\n",
    "# Display the plot\n",
    "plt.tight_layout()\n",
    "plt.show()"
   ]
  },
  {
   "cell_type": "markdown",
   "id": "ab76c8eb",
   "metadata": {
    "id": "ab76c8eb"
   },
   "source": [
    "# LSTM Hypertuning - Cycle 1 "
   ]
  },
  {
   "cell_type": "code",
   "execution_count": 25,
   "id": "8747028d",
   "metadata": {},
   "outputs": [
    {
     "name": "stdout",
     "output_type": "stream",
     "text": [
      "Epoch 1/10\n",
      "\u001b[1m64/64\u001b[0m \u001b[32m━━━━━━━━━━━━━━━━━━━━\u001b[0m\u001b[37m\u001b[0m \u001b[1m2s\u001b[0m 14ms/step - accuracy: 0.4993 - loss: 0.7390 - val_accuracy: 0.5078 - val_loss: 0.6950\n",
      "Epoch 2/10\n",
      "\u001b[1m64/64\u001b[0m \u001b[32m━━━━━━━━━━━━━━━━━━━━\u001b[0m\u001b[37m\u001b[0m \u001b[1m1s\u001b[0m 12ms/step - accuracy: 0.5216 - loss: 0.7119 - val_accuracy: 0.6055 - val_loss: 0.6650\n",
      "Epoch 3/10\n",
      "\u001b[1m64/64\u001b[0m \u001b[32m━━━━━━━━━━━━━━━━━━━━\u001b[0m\u001b[37m\u001b[0m \u001b[1m1s\u001b[0m 11ms/step - accuracy: 0.5780 - loss: 0.6909 - val_accuracy: 0.5742 - val_loss: 0.6897\n",
      "Epoch 4/10\n",
      "\u001b[1m64/64\u001b[0m \u001b[32m━━━━━━━━━━━━━━━━━━━━\u001b[0m\u001b[37m\u001b[0m \u001b[1m1s\u001b[0m 12ms/step - accuracy: 0.5804 - loss: 0.6874 - val_accuracy: 0.6035 - val_loss: 0.6615\n",
      "Epoch 5/10\n",
      "\u001b[1m64/64\u001b[0m \u001b[32m━━━━━━━━━━━━━━━━━━━━\u001b[0m\u001b[37m\u001b[0m \u001b[1m1s\u001b[0m 12ms/step - accuracy: 0.6228 - loss: 0.6581 - val_accuracy: 0.6289 - val_loss: 0.6482\n",
      "Epoch 6/10\n",
      "\u001b[1m64/64\u001b[0m \u001b[32m━━━━━━━━━━━━━━━━━━━━\u001b[0m\u001b[37m\u001b[0m \u001b[1m1s\u001b[0m 11ms/step - accuracy: 0.6082 - loss: 0.6558 - val_accuracy: 0.6152 - val_loss: 0.6574\n",
      "Epoch 7/10\n",
      "\u001b[1m64/64\u001b[0m \u001b[32m━━━━━━━━━━━━━━━━━━━━\u001b[0m\u001b[37m\u001b[0m \u001b[1m1s\u001b[0m 12ms/step - accuracy: 0.6300 - loss: 0.6462 - val_accuracy: 0.6133 - val_loss: 0.6494\n",
      "Epoch 8/10\n",
      "\u001b[1m64/64\u001b[0m \u001b[32m━━━━━━━━━━━━━━━━━━━━\u001b[0m\u001b[37m\u001b[0m \u001b[1m1s\u001b[0m 12ms/step - accuracy: 0.6170 - loss: 0.6637 - val_accuracy: 0.6328 - val_loss: 0.6432\n",
      "Epoch 9/10\n",
      "\u001b[1m64/64\u001b[0m \u001b[32m━━━━━━━━━━━━━━━━━━━━\u001b[0m\u001b[37m\u001b[0m \u001b[1m1s\u001b[0m 11ms/step - accuracy: 0.6431 - loss: 0.6450 - val_accuracy: 0.6445 - val_loss: 0.6607\n",
      "Epoch 10/10\n",
      "\u001b[1m64/64\u001b[0m \u001b[32m━━━━━━━━━━━━━━━━━━━━\u001b[0m\u001b[37m\u001b[0m \u001b[1m1s\u001b[0m 11ms/step - accuracy: 0.6566 - loss: 0.6324 - val_accuracy: 0.6152 - val_loss: 0.6494\n",
      "\u001b[1m20/20\u001b[0m \u001b[32m━━━━━━━━━━━━━━━━━━━━\u001b[0m\u001b[37m\u001b[0m \u001b[1m0s\u001b[0m 4ms/step - accuracy: 0.6252 - loss: 0.6543\n",
      "Test Accuracy: 0.6171875\n",
      "\u001b[1m20/20\u001b[0m \u001b[32m━━━━━━━━━━━━━━━━━━━━\u001b[0m\u001b[37m\u001b[0m \u001b[1m0s\u001b[0m 4ms/step\n",
      "Classification Report:\n",
      "              precision    recall  f1-score   support\n",
      "\n",
      "           0       0.65      0.57      0.61       331\n",
      "           1       0.59      0.66      0.63       309\n",
      "\n",
      "    accuracy                           0.62       640\n",
      "   macro avg       0.62      0.62      0.62       640\n",
      "weighted avg       0.62      0.62      0.62       640\n",
      "\n"
     ]
    }
   ],
   "source": [
    "from tensorflow.keras import optimizers\n",
    "# Building LSTM model\n",
    "embedding_dim = 64  # adjusting to new values\n",
    "lstm_units = 64  # adjusting to new values\n",
    "\n",
    "model = Sequential()\n",
    "model.add(Embedding(input_dim= max_words, output_dim=embedding_dim, input_length=max_len))\n",
    "model.add(LSTM(units=lstm_units, return_sequences=True))\n",
    "model.add(Dropout(0.2))\n",
    "model.add(LSTM(units=lstm_units))\n",
    "model.add(Dropout(0.2))\n",
    "model.add(Dense(64, activation='sigmoid'))\n",
    "model.add(Dropout(0.2))\n",
    "model.add(Dense(2, activation='softmax'))\n",
    "\n",
    "# Compiling the model\n",
    "model.compile(optimizer=optimizers.Adam(learning_rate=0.001), loss='sparse_categorical_crossentropy', metrics=['accuracy'])\n",
    "\n",
    "# Training the model\n",
    "model.fit(X_train_pad, binary_label_train, epochs=10, batch_size=32, validation_split=0.2)\n",
    "\n",
    "# Evaluating the model\n",
    "loss, accuracy_LSTM_tuned = model.evaluate(X_test_pad, binary_label_test)\n",
    "print(\"Test Accuracy:\", accuracy_LSTM_tuned)\n",
    "\n",
    "\n",
    "# Getting the predicted labels\n",
    "\n",
    "y_pred_LSTM_tuned = np.argmax(model.predict(X_test_pad), axis=1)\n",
    "# Generating classification report\n",
    "report_LSTM_tuned = classification_report(binary_label_test, y_pred_LSTM_tuned)\n",
    "\n",
    "# Printing classification report\n",
    "print(\"Classification Report LSTM Tuned:\")\n",
    "print(report_LSTM_tuned)"
   ]
  },
  {
   "cell_type": "markdown",
   "id": "3d19f5d5",
   "metadata": {},
   "source": [
    "# LSTM Hypertuning - Cycle 2"
   ]
  },
  {
   "cell_type": "code",
   "execution_count": 29,
   "id": "f1f6a130",
   "metadata": {},
   "outputs": [
    {
     "name": "stdout",
     "output_type": "stream",
     "text": [
      "Epoch 1/10\n",
      "\u001b[1m128/128\u001b[0m \u001b[32m━━━━━━━━━━━━━━━━━━━━\u001b[0m\u001b[37m\u001b[0m \u001b[1m4s\u001b[0m 18ms/step - accuracy: 0.4906 - loss: 0.7001 - val_accuracy: 0.5938 - val_loss: 0.6776\n",
      "Epoch 2/10\n",
      "\u001b[1m128/128\u001b[0m \u001b[32m━━━━━━━━━━━━━━━━━━━━\u001b[0m\u001b[37m\u001b[0m \u001b[1m2s\u001b[0m 15ms/step - accuracy: 0.5237 - loss: 0.6989 - val_accuracy: 0.4961 - val_loss: 0.6940\n",
      "Epoch 3/10\n",
      "\u001b[1m128/128\u001b[0m \u001b[32m━━━━━━━━━━━━━━━━━━━━\u001b[0m\u001b[37m\u001b[0m \u001b[1m2s\u001b[0m 15ms/step - accuracy: 0.4975 - loss: 0.6947 - val_accuracy: 0.5078 - val_loss: 0.6924\n",
      "Epoch 4/10\n",
      "\u001b[1m128/128\u001b[0m \u001b[32m━━━━━━━━━━━━━━━━━━━━\u001b[0m\u001b[37m\u001b[0m \u001b[1m2s\u001b[0m 15ms/step - accuracy: 0.5118 - loss: 0.6922 - val_accuracy: 0.6035 - val_loss: 0.6739\n",
      "Epoch 5/10\n",
      "\u001b[1m128/128\u001b[0m \u001b[32m━━━━━━━━━━━━━━━━━━━━\u001b[0m\u001b[37m\u001b[0m \u001b[1m2s\u001b[0m 15ms/step - accuracy: 0.5794 - loss: 0.6819 - val_accuracy: 0.5703 - val_loss: 0.6648\n",
      "Epoch 6/10\n",
      "\u001b[1m128/128\u001b[0m \u001b[32m━━━━━━━━━━━━━━━━━━━━\u001b[0m\u001b[37m\u001b[0m \u001b[1m2s\u001b[0m 15ms/step - accuracy: 0.5964 - loss: 0.6657 - val_accuracy: 0.6113 - val_loss: 0.6602\n",
      "Epoch 7/10\n",
      "\u001b[1m128/128\u001b[0m \u001b[32m━━━━━━━━━━━━━━━━━━━━\u001b[0m\u001b[37m\u001b[0m \u001b[1m2s\u001b[0m 15ms/step - accuracy: 0.6290 - loss: 0.6533 - val_accuracy: 0.6270 - val_loss: 0.6441\n",
      "Epoch 8/10\n",
      "\u001b[1m128/128\u001b[0m \u001b[32m━━━━━━━━━━━━━━━━━━━━\u001b[0m\u001b[37m\u001b[0m \u001b[1m2s\u001b[0m 15ms/step - accuracy: 0.6401 - loss: 0.6424 - val_accuracy: 0.6289 - val_loss: 0.6425\n",
      "Epoch 9/10\n",
      "\u001b[1m128/128\u001b[0m \u001b[32m━━━━━━━━━━━━━━━━━━━━\u001b[0m\u001b[37m\u001b[0m \u001b[1m2s\u001b[0m 16ms/step - accuracy: 0.6665 - loss: 0.6270 - val_accuracy: 0.6504 - val_loss: 0.6351\n",
      "Epoch 10/10\n",
      "\u001b[1m128/128\u001b[0m \u001b[32m━━━━━━━━━━━━━━━━━━━━\u001b[0m\u001b[37m\u001b[0m \u001b[1m2s\u001b[0m 15ms/step - accuracy: 0.6603 - loss: 0.6166 - val_accuracy: 0.6699 - val_loss: 0.6296\n",
      "\u001b[1m20/20\u001b[0m \u001b[32m━━━━━━━━━━━━━━━━━━━━\u001b[0m\u001b[37m\u001b[0m \u001b[1m0s\u001b[0m 9ms/step - accuracy: 0.6870 - loss: 0.5962\n",
      "Test Accuracy: 0.6781250238418579\n",
      "\u001b[1m20/20\u001b[0m \u001b[32m━━━━━━━━━━━━━━━━━━━━\u001b[0m\u001b[37m\u001b[0m \u001b[1m0s\u001b[0m 8ms/step\n",
      "Classification Report of LSTM Tuned:\n",
      "              precision    recall  f1-score   support\n",
      "\n",
      "           0       0.69      0.67      0.68       331\n",
      "           1       0.66      0.68      0.67       309\n",
      "\n",
      "    accuracy                           0.68       640\n",
      "   macro avg       0.68      0.68      0.68       640\n",
      "weighted avg       0.68      0.68      0.68       640\n",
      "\n"
     ]
    }
   ],
   "source": [
    "from tensorflow.keras import optimizers\n",
    "# Building LSTM model\n",
    "embedding_dim = 200  # adjusting new parameters\n",
    "lstm_units = 128  # adjusting new parameters\n",
    "\n",
    "model = Sequential()\n",
    "model.add(Embedding(input_dim= max_words, output_dim=embedding_dim, input_length=max_len))\n",
    "model.add(LSTM(units=lstm_units, return_sequences=True))\n",
    "model.add(Dropout(0.2))\n",
    "model.add(LSTM(units=lstm_units))\n",
    "model.add(Dropout(0.2))\n",
    "model.add(Dense(64, activation='relu')) # changing activation function to relu \n",
    "model.add(Dropout(0.2))\n",
    "model.add(Dense(2, activation='softmax'))\n",
    "\n",
    "# Compiling the model\n",
    "model.compile(optimizer=optimizers.Adam(learning_rate=0.002), loss='sparse_categorical_crossentropy', metrics=['accuracy'])\n",
    "\n",
    "# Training the model\n",
    "model.fit(X_train_pad, binary_label_train, epochs=10, batch_size=16, validation_split=0.2) # changing batch size\n",
    "\n",
    "# Evaluating the model\n",
    "loss, accuracy_LSTM_tuned = model.evaluate(X_test_pad, binary_label_test)\n",
    "print(\"Test Accuracy:\", accuracy_LSTM_tuned)\n",
    "\n",
    "\n",
    "# Getting the predicted labels\n",
    "\n",
    "y_pred_LSTM_tuned = np.argmax(model.predict(X_test_pad), axis=1)\n",
    "# Generating classification report\n",
    "report_LSTM_tuned = classification_report(binary_label_test, y_pred_LSTM_tuned)\n",
    "\n",
    "# Printing classification report\n",
    "print(\"Classification Report of LSTM Tuned:\")\n",
    "print(report_LSTM_tuned)"
   ]
  },
  {
   "cell_type": "markdown",
   "id": "534b8a53",
   "metadata": {
    "id": "534b8a53"
   },
   "source": [
    "# Task 2"
   ]
  },
  {
   "cell_type": "markdown",
   "id": "e9297abd",
   "metadata": {},
   "source": [
    "# Getting the Snippets"
   ]
  },
  {
   "cell_type": "code",
   "execution_count": 36,
   "id": "dcc1e27d",
   "metadata": {
    "id": "dcc1e27d"
   },
   "outputs": [],
   "source": [
    "import re\n",
    "\n",
    "def extract_snippet(sentence): # Defining function to extract snippets\n",
    "    match = re.search(r'<BOS>(.*?)<EOS>', sentence)\n",
    "    if match:\n",
    "        return match.group(1)\n",
    "    else:\n",
    "        return ''"
   ]
  },
  {
   "cell_type": "code",
   "execution_count": 37,
   "id": "2d0254e6",
   "metadata": {
    "id": "2d0254e6"
   },
   "outputs": [],
   "source": [
    "train_df['snippet'] = train_df['tagged_in_context'].apply(extract_snippet) \n",
    "test_df['snippet'] = test_df['tagged_in_context'].apply(extract_snippet)"
   ]
  },
  {
   "cell_type": "markdown",
   "id": "33bbf9a8",
   "metadata": {},
   "source": [
    "# Encoding the Lables "
   ]
  },
  {
   "cell_type": "code",
   "execution_count": null,
   "id": "640ca043",
   "metadata": {},
   "outputs": [],
   "source": [
    "from sklearn.preprocessing import LabelEncoder\n",
    "# Encode the labels (propaganda techniques) using LabelEncoder\n",
    "label_encoder = LabelEncoder()\n",
    "train_df['encoded_label'] = label_encoder.fit_transform(train_df['label'])\n",
    "test_df['encoded_label'] = label_encoder.fit_transform(test_df['label'])"
   ]
  },
  {
   "cell_type": "markdown",
   "id": "c7c66c14",
   "metadata": {},
   "source": [
    "# Approach 1\n",
    "\n",
    "# Multinomial NB classifier - Bag of Words/Vectorization"
   ]
  },
  {
   "cell_type": "code",
   "execution_count": 41,
   "id": "835e3a7f",
   "metadata": {
    "colab": {
     "base_uri": "https://localhost:8080/"
    },
    "id": "835e3a7f",
    "outputId": "c0be910a-70ae-40f7-e8d4-a7bd4aa74fa5"
   },
   "outputs": [
    {
     "name": "stdout",
     "output_type": "stream",
     "text": [
      "Classification Report Multinomial NB:\n",
      "              precision    recall  f1-score   support\n",
      "\n",
      "           0       0.40      0.09      0.15        43\n",
      "           1       0.50      0.31      0.39        35\n",
      "           2       0.15      0.05      0.07        43\n",
      "           3       0.67      0.13      0.22        30\n",
      "           4       0.83      0.33      0.48        45\n",
      "           5       0.00      0.00      0.00        39\n",
      "           6       0.33      0.03      0.05        34\n",
      "           7       0.57      0.97      0.72       331\n",
      "           8       0.60      0.07      0.13        40\n",
      "\n",
      "    accuracy                           0.56       640\n",
      "   macro avg       0.45      0.22      0.25       640\n",
      "weighted avg       0.51      0.56      0.46       640\n",
      "\n",
      "\n"
     ]
    }
   ],
   "source": [
    "#Importing necessary Libraries\n",
    "import pandas as pd\n",
    "from sklearn.feature_extraction.text import CountVectorizer\n",
    "from sklearn.model_selection import train_test_split\n",
    "from sklearn.naive_bayes import MultinomialNB\n",
    "from sklearn.metrics import accuracy_score, classification_report\n",
    "\n",
    "\n",
    "\n",
    "# Vectorizing the text\n",
    "x_train = vectorizer.fit_transform(train_df['snippet'])\n",
    "y_train = train_df['encoded_label']\n",
    "x_test = vectorizer.transform(test_df['snippet'])\n",
    "y_test = test_df['encoded_label']\n",
    "\n",
    "\n",
    "# Initializing and train the classifier\n",
    "classifier_NB = MultinomialNB()\n",
    "classifier_NB.fit(x_train, y_train)\n",
    "\n",
    "# Predicting labels for the test data\n",
    "y_pred_NB = classifier_NB.predict(x_test)\n",
    "\n",
    "# Evaluating the classifier\n",
    "accuracy_NB = accuracy_score(y_test, y_pred_NB)\n",
    "report_NB = classification_report(y_test, y_pred_NB)\n",
    "\n",
    "#printing Report\n",
    "print(\"Classification Report Multinomial NB:\")\n",
    "print(report_NB)\n",
    "print()"
   ]
  },
  {
   "cell_type": "markdown",
   "id": "e1d26974",
   "metadata": {},
   "source": [
    "# Multinomial NB classifier Hypertuning through Grid Search CV"
   ]
  },
  {
   "cell_type": "code",
   "execution_count": 39,
   "id": "d0cb56f1",
   "metadata": {},
   "outputs": [
    {
     "name": "stdout",
     "output_type": "stream",
     "text": [
      "Best hyperparameters:  {'alpha': 0.5}\n",
      "Best accuracy score:  0.5421875\n",
      "Classification Report Multinomial NB Tuned:\n",
      "              precision    recall  f1-score   support\n",
      "\n",
      "           0       0.40      0.19      0.25        43\n",
      "           1       0.44      0.46      0.45        35\n",
      "           2       0.35      0.30      0.32        43\n",
      "           3       0.47      0.27      0.34        30\n",
      "           4       0.81      0.47      0.59        45\n",
      "           5       0.70      0.18      0.29        39\n",
      "           6       0.44      0.12      0.19        34\n",
      "           7       0.64      0.91      0.75       331\n",
      "           8       0.60      0.15      0.24        40\n",
      "\n",
      "    accuracy                           0.60       640\n",
      "   macro avg       0.54      0.34      0.38       640\n",
      "weighted avg       0.59      0.60      0.55       640\n",
      "\n",
      "\n"
     ]
    }
   ],
   "source": [
    "from sklearn.model_selection import GridSearchCV\n",
    "from sklearn.naive_bayes import MultinomialNB\n",
    "\n",
    "# Defining the hyperparameter grid\n",
    "param_grid_NB = {'alpha': [0.1, 0.5, 1.0, 2.0, 5.0, 10.0]}\n",
    "\n",
    "# Creating the Multinomial Naive Bayes classifier\n",
    "classifier_NB = MultinomialNB()\n",
    "\n",
    "# Performing grid search\n",
    "grid_search_NB = GridSearchCV(estimator=classifier_NB, param_grid=param_grid_NB, cv=5, scoring='accuracy')\n",
    "grid_search_NB.fit(x_train, y_train)\n",
    "\n",
    "# Getting the best hyperparameters and best score\n",
    "best_params_NB = grid_search_NB.best_params_\n",
    "best_score_NB = grid_search_NB.best_score_\n",
    "\n",
    "print(\"Best hyperparameters: \", best_params_NB)\n",
    "print(\"Best accuracy score: \", best_score_NB)\n",
    "\n",
    "# Training the classifier with the best hyperparameters\n",
    "best_classifier = MultinomialNB(alpha=best_params_NB['alpha'])\n",
    "best_classifier.fit(x_train, y_train)\n",
    "\n",
    "# Predicting labels for the test data using the best classifier\n",
    "y_pred_NB_tuned = best_classifier.predict(x_test)\n",
    "\n",
    "accuracy_NB_tuned = accuracy_score(y_test, y_pred_NB_tuned)\n",
    "report_NB_tuned = classification_report(y_test, y_pred_NB_tuned)\n",
    "\n",
    "#Priting classification report\n",
    "print(\"Classification Report Multinomial NB Tuned:\")\n",
    "print(report_NB_tuned)\n",
    "print()"
   ]
  },
  {
   "cell_type": "markdown",
   "id": "47906e96",
   "metadata": {},
   "source": [
    "# Approach 2\n",
    "\n",
    "# Random Forest Classifier-  Word2Vec/Word Embedding"
   ]
  },
  {
   "cell_type": "code",
   "execution_count": 43,
   "id": "i9iQdIlj9DTP",
   "metadata": {
    "colab": {
     "base_uri": "https://localhost:8080/",
     "height": 211
    },
    "id": "i9iQdIlj9DTP",
    "outputId": "68ef7a30-7750-4936-fdd8-a87526afaded"
   },
   "outputs": [
    {
     "name": "stdout",
     "output_type": "stream",
     "text": [
      "Classification Report: Random Forest\n",
      "              precision    recall  f1-score   support\n",
      "\n",
      "           0       0.12      0.07      0.09        43\n",
      "           1       0.15      0.14      0.15        35\n",
      "           2       0.31      0.09      0.14        43\n",
      "           3       0.43      0.10      0.16        30\n",
      "           4       0.64      0.31      0.42        45\n",
      "           5       0.00      0.00      0.00        39\n",
      "           6       0.56      0.15      0.23        34\n",
      "           7       0.59      0.92      0.72       331\n",
      "           8       0.71      0.25      0.37        40\n",
      "\n",
      "    accuracy                           0.54       640\n",
      "   macro avg       0.39      0.23      0.25       640\n",
      "weighted avg       0.48      0.54      0.47       640\n",
      "\n"
     ]
    }
   ],
   "source": [
    "import numpy as np\n",
    "from gensim.models import Word2Vec\n",
    "from sklearn.ensemble import RandomForestClassifier\n",
    "from sklearn.metrics import accuracy_score\n",
    "from sklearn.preprocessing import LabelEncoder\n",
    "\n",
    "#creating tokens \n",
    "x_train_tokens = [str(doc).split() for doc in x_train]\n",
    "x_test_tokens = [str(doc).split() for doc in x_test]\n",
    "\n",
    "# Training Word2Vec model\n",
    "embedding_size = 100\n",
    "window_size = 5\n",
    "min_word_count = 1\n",
    "\n",
    "word2vec_model = Word2Vec(x_train_tokens, vector_size=embedding_size, window=window_size, min_count=min_word_count)\n",
    "\n",
    "# Creating document embeddings\n",
    "def get_document_embedding(doc): #defining the function to get the embeddings\n",
    "    valid_words = [word for word in doc if word in word2vec_model.wv]\n",
    "    if valid_words:\n",
    "        doc_embedding = np.mean(word2vec_model.wv[valid_words], axis=0)\n",
    "    else:\n",
    "        doc_embedding = np.zeros(embedding_size)\n",
    "    return doc_embedding\n",
    "\n",
    "X_train_embeddings = [get_document_embedding(doc) for doc in x_train_tokens]\n",
    "X_test_embeddings = [get_document_embedding(doc) for doc in x_test_tokens]\n",
    "\n",
    "# Training Random Forest classifier\n",
    "rf_classifier = RandomForestClassifier(n_estimators=100)\n",
    "rf_classifier.fit(X_train_embeddings, y_train)\n",
    "\n",
    "# Predicting labels for the test set\n",
    "y_pred_rf = rf_classifier.predict(X_test_embeddings)\n",
    "report_rf = classification_report(y_test, y_pred_rf)\n",
    "\n",
    "# Print classification report\n",
    "print(\"Classification Report: Random Forest\")\n",
    "print(report_rf)"
   ]
  },
  {
   "cell_type": "markdown",
   "id": "c78ed3b3",
   "metadata": {},
   "source": [
    "# Random Forest Classifier Hypertuning through Grid search CV"
   ]
  },
  {
   "cell_type": "code",
   "execution_count": 44,
   "id": "a37bd808",
   "metadata": {},
   "outputs": [
    {
     "name": "stdout",
     "output_type": "stream",
     "text": [
      "Best hyperparameters: {'max_depth': 20, 'max_features': 'sqrt', 'min_samples_split': 5, 'n_estimators': 100}\n",
      "Best accuracy score: 0.519140625\n",
      "Classification Report:\n",
      "              precision    recall  f1-score   support\n",
      "\n",
      "           0       0.15      0.09      0.12        43\n",
      "           1       0.10      0.09      0.09        35\n",
      "           2       0.27      0.07      0.11        43\n",
      "           3       1.00      0.10      0.18        30\n",
      "           4       0.74      0.31      0.44        45\n",
      "           5       0.20      0.03      0.05        39\n",
      "           6       0.43      0.09      0.15        34\n",
      "           7       0.58      0.93      0.72       331\n",
      "           8       0.90      0.23      0.36        40\n",
      "\n",
      "    accuracy                           0.54       640\n",
      "   macro avg       0.49      0.21      0.25       640\n",
      "weighted avg       0.53      0.54      0.46       640\n",
      "\n"
     ]
    }
   ],
   "source": [
    "from sklearn.model_selection import GridSearchCV\n",
    "\n",
    "param_grid_rf = {\n",
    "    'n_estimators': [50, 100, 200],\n",
    "    'max_depth': [None, 10, 20],\n",
    "    'min_samples_split': [2, 5, 10],\n",
    "    'max_features': ['sqrt', 'log2']\n",
    "}\n",
    "\n",
    "# Creating a Random Forest classifier\n",
    "classifier_rf_tuned = RandomForestClassifier()\n",
    "\n",
    "# Performing grid search\n",
    "grid_search_rf = GridSearchCV(estimator=classifier_rf_tuned, param_grid=param_grid_rf, cv=5, scoring='accuracy')\n",
    "grid_search_rf.fit(X_train_embeddings, y_train)\n",
    "\n",
    "# Getting the best hyperparameters and best score\n",
    "best_params_rf = grid_search_rf.best_params_\n",
    "best_score_rf = grid_search_rf.best_score_\n",
    "print(\"Best hyperparameters:\", best_params_rf)\n",
    "print(\"Best accuracy score:\", best_score_rf)\n",
    "\n",
    "# Training the Random Forest classifier with the best hyperparameters\n",
    "best_rf_classifier = RandomForestClassifier(**best_params_rf)\n",
    "best_rf_classifier.fit(X_train_embeddings, y_train)\n",
    "\n",
    "# Predicting labels for the test set\n",
    "y_pred_rf_tuned = best_rf_classifier.predict(X_test_embeddings)\n",
    "report_rf_tuned = classification_report(y_test, y_pred_rf_tuned)\n",
    "\n",
    "# Printing classification report\n",
    "print(\"Classification Report:\")\n",
    "print(report_rf_tuned)"
   ]
  },
  {
   "cell_type": "markdown",
   "id": "6a3600db",
   "metadata": {},
   "source": [
    "# Approach 3 \n",
    "\n",
    "# BERT - Bert Tokenizer/Conextual Embedding\n"
   ]
  },
  {
   "cell_type": "code",
   "execution_count": 84,
   "id": "16c3a967",
   "metadata": {},
   "outputs": [
    {
     "name": "stderr",
     "output_type": "stream",
     "text": [
      "Some weights of BertForSequenceClassification were not initialized from the model checkpoint at bert-base-uncased and are newly initialized: ['classifier.bias', 'classifier.weight']\n",
      "You should probably TRAIN this model on a down-stream task to be able to use it for predictions and inference.\n"
     ]
    }
   ],
   "source": [
    "#importing the necessary libraries \n",
    "from sklearn.metrics import accuracy_score, classification_report\n",
    "from sklearn.preprocessing import LabelEncoder\n",
    "from transformers import BertTokenizer, BertForSequenceClassification\n",
    "from torch.utils.data import Dataset, DataLoader\n",
    "import torch\n",
    "import warnings\n",
    "warnings.filterwarnings(\"ignore\")\n",
    "\n",
    "# Loading the BERT tokenizer and model\n",
    "tokenizer_bert = BertTokenizer.from_pretrained('bert-base-uncased')\n",
    "model = BertForSequenceClassification.from_pretrained('bert-base-uncased', num_labels=len(label_encoder.classes_))\n",
    "\n",
    "# Tokenizing the snippets\n",
    "train_encodings = tokenizer_bert(list(train_df['snippet']), truncation=True, padding=True)\n",
    "test_encodings = tokenizer_bert(list(test_df['snippet']), truncation=True, padding=True)\n",
    "\n",
    "# Creating the datasets\n",
    "class SnippetDataset(torch.utils.data.Dataset):\n",
    "    def __init__(self, encodings, labels):\n",
    "        self.encodings = encodings\n",
    "        self.labels = labels\n",
    "\n",
    "    def __getitem__(self, idx):\n",
    "        item = {key: torch.tensor(val[idx]) for key, val in self.encodings.items()}\n",
    "        item['labels'] = torch.tensor(self.labels[idx])\n",
    "        return item\n",
    "    \n",
    "    def __getitem__(self, idx):\n",
    "        item = {key: torch.tensor(val[idx]) for key, val in self.encodings.items()}\n",
    "        item['labels'] = torch.tensor(self.labels[idx], dtype=torch.long)\n",
    "        return item\n",
    "    \n",
    "    def __len__(self):\n",
    "        return len(self.labels)"
   ]
  },
  {
   "cell_type": "code",
   "execution_count": 13,
   "id": "YG3BkpMC67fB",
   "metadata": {
    "colab": {
     "base_uri": "https://localhost:8080/"
    },
    "id": "YG3BkpMC67fB",
    "outputId": "0f08c310-6ab4-417d-99b5-d76f992a1225"
   },
   "outputs": [
    {
     "name": "stdout",
     "output_type": "stream",
     "text": [
      "Epoch 1/3\n",
      "--------------------\n",
      "Batch [10/160] Loss: 1.8466\n",
      "Batch [20/160] Loss: 2.0592\n",
      "Batch [30/160] Loss: 1.8655\n",
      "Batch [40/160] Loss: 1.3563\n",
      "Batch [50/160] Loss: 1.7038\n",
      "Batch [60/160] Loss: 1.6123\n",
      "Batch [70/160] Loss: 1.2840\n",
      "Batch [80/160] Loss: 1.1303\n",
      "Batch [90/160] Loss: 1.6481\n",
      "Batch [100/160] Loss: 1.5159\n",
      "Batch [110/160] Loss: 1.3203\n",
      "Batch [120/160] Loss: 1.5161\n",
      "Batch [130/160] Loss: 1.6452\n",
      "Batch [140/160] Loss: 1.3491\n",
      "Batch [150/160] Loss: 1.3477\n",
      "Batch [160/160] Loss: 0.6527\n",
      "Training Loss: 1.4833 | Training Accuracy: 0.5145\n",
      "\n",
      "Epoch 2/3\n",
      "--------------------\n",
      "Batch [10/160] Loss: 1.1229\n",
      "Batch [20/160] Loss: 0.7942\n",
      "Batch [30/160] Loss: 1.2326\n",
      "Batch [40/160] Loss: 0.8305\n",
      "Batch [50/160] Loss: 1.1993\n",
      "Batch [60/160] Loss: 0.7442\n",
      "Batch [70/160] Loss: 0.7344\n",
      "Batch [80/160] Loss: 0.9553\n",
      "Batch [90/160] Loss: 0.9049\n",
      "Batch [100/160] Loss: 0.3799\n",
      "Batch [110/160] Loss: 0.6211\n",
      "Batch [120/160] Loss: 0.7311\n",
      "Batch [130/160] Loss: 0.8756\n",
      "Batch [140/160] Loss: 0.3865\n",
      "Batch [150/160] Loss: 0.5988\n",
      "Batch [160/160] Loss: 0.8556\n",
      "Training Loss: 0.9237 | Training Accuracy: 0.6992\n",
      "\n",
      "Epoch 3/3\n",
      "--------------------\n",
      "Batch [10/160] Loss: 1.0415\n",
      "Batch [20/160] Loss: 0.8041\n",
      "Batch [30/160] Loss: 0.1895\n",
      "Batch [40/160] Loss: 0.3999\n",
      "Batch [50/160] Loss: 0.5114\n",
      "Batch [60/160] Loss: 0.6267\n",
      "Batch [70/160] Loss: 0.5332\n",
      "Batch [80/160] Loss: 0.8283\n",
      "Batch [90/160] Loss: 0.6277\n",
      "Batch [100/160] Loss: 0.4901\n",
      "Batch [110/160] Loss: 0.4321\n",
      "Batch [120/160] Loss: 0.4081\n",
      "Batch [130/160] Loss: 0.8296\n",
      "Batch [140/160] Loss: 0.1789\n",
      "Batch [150/160] Loss: 0.4159\n",
      "Batch [160/160] Loss: 0.9770\n",
      "Training Loss: 0.5711 | Training Accuracy: 0.8258\n",
      "\n"
     ]
    }
   ],
   "source": [
    "train_dataset = SnippetDataset(train_encodings, train_df['encoded_label'])\n",
    "test_dataset = SnippetDataset(test_encodings, test_df['encoded_label'])\n",
    "\n",
    "# Creating the data loaders\n",
    "batch_size = 16\n",
    "train_loader = DataLoader(train_dataset, batch_size=batch_size, shuffle=True)\n",
    "test_loader = DataLoader(test_dataset, batch_size=batch_size)\n",
    "\n",
    "# Training the model\n",
    "device = torch.device('cuda' if torch.cuda.is_available() else 'cpu')\n",
    "model.to(device)\n",
    "optimizer = torch.optim.AdamW(model.parameters(), lr=2e-5)\n",
    "num_epochs = 3\n",
    "\n",
    "for epoch in range(num_epochs):\n",
    "    print(f\"Epoch {epoch + 1}/{num_epochs}\")\n",
    "    print(\"-\" * 20)\n",
    "\n",
    "    model.train()\n",
    "    train_loss = 0.0\n",
    "    train_correct = 0\n",
    "    train_total = 0\n",
    "\n",
    "    for batch_idx, batch in enumerate(train_loader):\n",
    "        input_ids = batch['input_ids'].to(device)\n",
    "        attention_mask = batch['attention_mask'].to(device)\n",
    "        labels = batch['labels'].to(device)\n",
    "\n",
    "        optimizer.zero_grad()\n",
    "\n",
    "        outputs = model(input_ids, attention_mask=attention_mask, labels=labels)\n",
    "        loss = outputs.loss\n",
    "        logits = outputs.logits\n",
    "\n",
    "        loss.backward()\n",
    "        optimizer.step()\n",
    "\n",
    "        train_loss += loss.item()\n",
    "        _, predicted = torch.max(logits, 1)\n",
    "        train_total += labels.size(0)\n",
    "        train_correct += (predicted == labels).sum().item()\n",
    "\n",
    "        if (batch_idx + 1) % 10 == 0:\n",
    "            print(f\"Batch [{batch_idx + 1}/{len(train_loader)}] Loss: {loss.item():.4f}\")\n",
    "\n",
    "    train_loss /= len(train_loader)\n",
    "    train_accuracy = train_correct / train_total\n",
    "\n",
    "    print(f\"Training Loss: {train_loss:.4f} | Training Accuracy: {train_accuracy:.4f}\")\n",
    "    print()"
   ]
  },
  {
   "cell_type": "markdown",
   "id": "2bfeaf69",
   "metadata": {},
   "source": [
    "### Evaluating the BERT  Model"
   ]
  },
  {
   "cell_type": "code",
   "execution_count": 14,
   "id": "R8ClPUzf7ALg",
   "metadata": {
    "colab": {
     "base_uri": "https://localhost:8080/"
    },
    "id": "R8ClPUzf7ALg",
    "outputId": "fe2cbe54-341b-4038-f321-59088ecbc3e9"
   },
   "outputs": [
    {
     "name": "stdout",
     "output_type": "stream",
     "text": [
      "Approach: BERT\n",
      "Accuracy: 0.753125\n",
      "Classification Report:\n",
      "                           precision    recall  f1-score   support\n",
      "\n",
      " appeal_to_fear_prejudice       0.62      0.65      0.64        43\n",
      "causal_oversimplification       0.49      0.74      0.59        35\n",
      "                    doubt       0.61      0.53      0.57        43\n",
      "exaggeration,minimisation       0.51      0.63      0.57        30\n",
      "              flag_waving       0.72      0.64      0.68        45\n",
      "          loaded_language       0.53      0.59      0.56        39\n",
      "    name_calling,labeling       0.73      0.71      0.72        34\n",
      "           not_propaganda       0.90      0.90      0.90       331\n",
      "               repetition       0.65      0.28      0.39        40\n",
      "\n",
      "                 accuracy                           0.75       640\n",
      "                macro avg       0.64      0.63      0.62       640\n",
      "             weighted avg       0.76      0.75      0.75       640\n",
      "\n"
     ]
    }
   ],
   "source": [
    "model.eval()\n",
    "y_true = []\n",
    "y_pred = []\n",
    "\n",
    "with torch.no_grad():\n",
    "    for batch in test_loader:\n",
    "        input_ids = batch['input_ids'].to(device)\n",
    "        attention_mask = batch['attention_mask'].to(device)\n",
    "        labels = batch['labels'].to(device)\n",
    "\n",
    "        outputs = model(input_ids, attention_mask=attention_mask)\n",
    "        logits = outputs.logits\n",
    "        predictions = torch.argmax(logits, dim=1)\n",
    "\n",
    "        y_true.extend(labels.cpu().numpy())\n",
    "        y_pred.extend(predictions.cpu().numpy())\n",
    "\n",
    "# Calculating accuracy and classification report\n",
    "accuracy_BERT = accuracy_score(y_true, y_pred)\n",
    "report_BERT = classification_report(y_true, y_pred, target_names=label_encoder.classes_)\n",
    "\n",
    "print(\"Approach: BERT\")\n",
    "print(\"Accuracy:\", accuracy_BERT)\n",
    "print(\"Classification Report:\")\n",
    "print(report_BERT)"
   ]
  },
  {
   "cell_type": "markdown",
   "id": "Z5qQq1GA7GB0",
   "metadata": {
    "id": "Z5qQq1GA7GB0"
   },
   "source": [
    "# BERT Hypertuning"
   ]
  },
  {
   "cell_type": "code",
   "execution_count": 30,
   "id": "932a2fa7",
   "metadata": {
    "colab": {
     "base_uri": "https://localhost:8080/"
    },
    "id": "932a2fa7",
    "outputId": "2fcad092-532a-4389-ae36-eb0f1c7c9264"
   },
   "outputs": [
    {
     "name": "stdout",
     "output_type": "stream",
     "text": [
      "Epoch 1/6\n",
      "--------------------\n",
      "Batch [10/80] Loss: 0.2561\n",
      "Batch [20/80] Loss: 0.4143\n",
      "Batch [30/80] Loss: 0.2326\n",
      "Batch [40/80] Loss: 0.3965\n",
      "Batch [50/80] Loss: 0.5162\n",
      "Batch [60/80] Loss: 0.3210\n",
      "Batch [70/80] Loss: 0.3414\n",
      "Batch [80/80] Loss: 0.2554\n",
      "Training Loss: 0.3080 | Training Accuracy: 0.9137\n",
      "\n",
      "Epoch 2/6\n",
      "--------------------\n",
      "Batch [10/80] Loss: 0.3355\n",
      "Batch [20/80] Loss: 0.3108\n",
      "Batch [30/80] Loss: 0.0662\n",
      "Batch [40/80] Loss: 0.1970\n",
      "Batch [50/80] Loss: 0.2039\n",
      "Batch [60/80] Loss: 0.0733\n",
      "Batch [70/80] Loss: 0.0724\n",
      "Batch [80/80] Loss: 0.1372\n",
      "Training Loss: 0.1675 | Training Accuracy: 0.9586\n",
      "\n",
      "Epoch 3/6\n",
      "--------------------\n",
      "Batch [10/80] Loss: 0.0601\n",
      "Batch [20/80] Loss: 0.1367\n",
      "Batch [30/80] Loss: 0.1318\n",
      "Batch [40/80] Loss: 0.0810\n",
      "Batch [50/80] Loss: 0.0744\n",
      "Batch [60/80] Loss: 0.1318\n",
      "Batch [70/80] Loss: 0.1384\n",
      "Batch [80/80] Loss: 0.1638\n",
      "Training Loss: 0.0984 | Training Accuracy: 0.9773\n",
      "\n",
      "Epoch 4/6\n",
      "--------------------\n",
      "Batch [10/80] Loss: 0.0653\n",
      "Batch [20/80] Loss: 0.0705\n",
      "Batch [30/80] Loss: 0.0250\n",
      "Batch [40/80] Loss: 0.0324\n",
      "Batch [50/80] Loss: 0.0531\n",
      "Batch [60/80] Loss: 0.0301\n",
      "Batch [70/80] Loss: 0.2029\n",
      "Batch [80/80] Loss: 0.0144\n",
      "Training Loss: 0.0622 | Training Accuracy: 0.9855\n",
      "\n",
      "Epoch 5/6\n",
      "--------------------\n",
      "Batch [10/80] Loss: 0.0173\n",
      "Batch [20/80] Loss: 0.0189\n",
      "Batch [30/80] Loss: 0.0144\n",
      "Batch [40/80] Loss: 0.1665\n",
      "Batch [50/80] Loss: 0.0473\n",
      "Batch [60/80] Loss: 0.0366\n",
      "Batch [70/80] Loss: 0.0112\n",
      "Batch [80/80] Loss: 0.0102\n",
      "Training Loss: 0.0547 | Training Accuracy: 0.9859\n",
      "\n",
      "Epoch 6/6\n",
      "--------------------\n",
      "Batch [10/80] Loss: 0.0154\n",
      "Batch [20/80] Loss: 0.1491\n",
      "Batch [30/80] Loss: 0.0217\n",
      "Batch [40/80] Loss: 0.1337\n",
      "Batch [50/80] Loss: 0.0112\n",
      "Batch [60/80] Loss: 0.0063\n",
      "Batch [70/80] Loss: 0.1052\n",
      "Batch [80/80] Loss: 0.0054\n",
      "Training Loss: 0.0398 | Training Accuracy: 0.9895\n",
      "\n"
     ]
    }
   ],
   "source": [
    "\n",
    "# Creating the data loaders\n",
    "batch_size = 32 # changing batch size\n",
    "train_loader = DataLoader(train_dataset, batch_size=batch_size, shuffle=True)\n",
    "test_loader = DataLoader(test_dataset, batch_size=batch_size)\n",
    "\n",
    "# Train the model\n",
    "device = torch.device('cuda' if torch.cuda.is_available() else 'cpu')\n",
    "model.to(device)\n",
    "optimizer = torch.optim.AdamW(model.parameters(), lr=3e-5) #changing learning rate\n",
    "num_epochs = 6 #chaning epochs from 3 to 6\n",
    "\n",
    "for epoch in range(num_epochs):\n",
    "    print(f\"Epoch {epoch + 1}/{num_epochs}\")\n",
    "    print(\"-\" * 20)\n",
    "\n",
    "    model.train()\n",
    "    train_loss = 0.0\n",
    "    train_correct = 0\n",
    "    train_total = 0\n",
    "\n",
    "    for batch_idx, batch in enumerate(train_loader):\n",
    "        input_ids = batch['input_ids'].to(device)\n",
    "        attention_mask = batch['attention_mask'].to(device)\n",
    "        labels = batch['labels'].to(device)\n",
    "\n",
    "        optimizer.zero_grad()\n",
    "\n",
    "        outputs = model(input_ids, attention_mask=attention_mask, labels=labels)\n",
    "        loss = outputs.loss\n",
    "        logits = outputs.logits\n",
    "\n",
    "        loss.backward()\n",
    "        optimizer.step()\n",
    "\n",
    "        train_loss += loss.item()\n",
    "        _, predicted = torch.max(logits, 1)\n",
    "        train_total += labels.size(0)\n",
    "        train_correct += (predicted == labels).sum().item()\n",
    "\n",
    "        if (batch_idx + 1) % 10 == 0:\n",
    "            print(f\"Batch [{batch_idx + 1}/{len(train_loader)}] Loss: {loss.item():.4f}\")\n",
    "\n",
    "    train_loss /= len(train_loader)\n",
    "    train_accuracy = train_correct / train_total\n",
    "\n",
    "    print(f\"Training Loss: {train_loss:.4f} | Training Accuracy: {train_accuracy:.4f}\")\n",
    "    print()"
   ]
  },
  {
   "cell_type": "markdown",
   "id": "c4d98d2b",
   "metadata": {},
   "source": [
    "### Evaluation of hypertuned BERT"
   ]
  },
  {
   "cell_type": "code",
   "execution_count": 31,
   "id": "5718a2fe",
   "metadata": {
    "colab": {
     "base_uri": "https://localhost:8080/"
    },
    "id": "5718a2fe",
    "outputId": "f8f6ea13-7fbe-4c01-dde3-baa0b9928a07"
   },
   "outputs": [
    {
     "name": "stdout",
     "output_type": "stream",
     "text": [
      "Approach: BERT\n",
      "Accuracy: 0.771875\n",
      "Classification Report:\n",
      "                           precision    recall  f1-score   support\n",
      "\n",
      " appeal_to_fear_prejudice       0.67      0.70      0.68        43\n",
      "causal_oversimplification       0.57      0.83      0.67        35\n",
      "                    doubt       0.67      0.56      0.61        43\n",
      "exaggeration,minimisation       0.51      0.60      0.55        30\n",
      "              flag_waving       0.80      0.73      0.77        45\n",
      "          loaded_language       0.65      0.44      0.52        39\n",
      "    name_calling,labeling       0.71      0.44      0.55        34\n",
      "           not_propaganda       0.94      0.92      0.93       331\n",
      "               repetition       0.40      0.60      0.48        40\n",
      "\n",
      "                 accuracy                           0.77       640\n",
      "                macro avg       0.66      0.65      0.64       640\n",
      "             weighted avg       0.79      0.77      0.77       640\n",
      "\n"
     ]
    }
   ],
   "source": [
    "model.eval()\n",
    "y_true = []\n",
    "y_pred = []\n",
    "\n",
    "with torch.no_grad():\n",
    "    for batch in test_loader:\n",
    "        input_ids = batch['input_ids'].to(device)\n",
    "        attention_mask = batch['attention_mask'].to(device)\n",
    "        labels = batch['labels'].to(device)\n",
    "\n",
    "        outputs = model(input_ids, attention_mask=attention_mask)\n",
    "        logits = outputs.logits\n",
    "        predictions = torch.argmax(logits, dim=1)\n",
    "\n",
    "        y_true.extend(labels.cpu().numpy())\n",
    "        y_pred.extend(predictions.cpu().numpy())\n",
    "\n",
    "# Calculating accuracy and classification report\n",
    "accuracy_BERT = accuracy_score(y_true, y_pred)\n",
    "report_BERT = classification_report(y_true, y_pred, target_names=label_encoder.classes_)\n",
    "\n",
    "print(\"Approach: BERT\")\n",
    "print(\"Accuracy:\", accuracy_BERT)\n",
    "print(\"Classification Report:\")\n",
    "print(report_BERT)"
   ]
  },
  {
   "cell_type": "markdown",
   "id": "7b1e2dcb",
   "metadata": {},
   "source": [
    "# CODE COUNT"
   ]
  },
  {
   "cell_type": "code",
   "execution_count": 52,
   "id": "ce8b82dc",
   "metadata": {
    "id": "ce8b82dc"
   },
   "outputs": [
    {
     "name": "stdout",
     "output_type": "stream",
     "text": [
      "Number of words in code cells: 1660\n"
     ]
    }
   ],
   "source": [
    "import io\n",
    "from nbformat import read\n",
    "\n",
    "filepath = \"ANLP latest.ipynb\"\n",
    "\n",
    "with io.open(filepath, 'r', encoding='utf-8') as f:\n",
    "    nb = read(f, as_version=4)\n",
    "\n",
    "word_count = 0\n",
    "for cell in nb.cells:\n",
    "    if cell.cell_type == \"code\":\n",
    "        word_count += len(cell['source'].replace('#', '').lstrip().split())\n",
    "\n",
    "print(\"Number of words in code cells: {}\".format(word_count))"
   ]
  },
  {
   "cell_type": "code",
   "execution_count": null,
   "id": "0a95fc71",
   "metadata": {},
   "outputs": [],
   "source": []
  },
  {
   "cell_type": "code",
   "execution_count": null,
   "id": "88d611af",
   "metadata": {},
   "outputs": [],
   "source": []
  }
 ],
 "metadata": {
  "accelerator": "GPU",
  "colab": {
   "gpuType": "T4",
   "provenance": []
  },
  "kernelspec": {
   "display_name": "Python 3 (ipykernel)",
   "language": "python",
   "name": "python3"
  },
  "language_info": {
   "codemirror_mode": {
    "name": "ipython",
    "version": 3
   },
   "file_extension": ".py",
   "mimetype": "text/x-python",
   "name": "python",
   "nbconvert_exporter": "python",
   "pygments_lexer": "ipython3",
   "version": "3.11.4"
  }
 },
 "nbformat": 4,
 "nbformat_minor": 5
}
